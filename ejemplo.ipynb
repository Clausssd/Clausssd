{
 "cells": [
  {
   "cell_type": "markdown",
   "metadata": {},
   "source": [
    "# Mi primer Notebook! "
   ]
  },
  {
   "cell_type": "markdown",
   "metadata": {},
   "source": [
    "2do C. Sacie del Castillo Claudia"
   ]
  },
  {
   "cell_type": "code",
   "execution_count": 1,
   "metadata": {},
   "outputs": [
    {
     "name": "stdout",
     "output_type": "stream",
     "text": [
      "Hola Mundo\n"
     ]
    }
   ],
   "source": [
    "print(\"Hola Mundo\")"
   ]
  },
  {
   "cell_type": "markdown",
   "metadata": {},
   "source": [
    "## Mis primeros descriptivos con Pandas\n"
   ]
  },
  {
   "cell_type": "markdown",
   "metadata": {},
   "source": [
    "Importa la biblioteca Pandas y la asigna al alias pd, usado para manipular datos en Python."
   ]
  },
  {
   "cell_type": "code",
   "execution_count": null,
   "metadata": {},
   "outputs": [],
   "source": [
    "# Importa la biblioteca Pandas y la asigna al alias 'pd' para facilitar su uso en el código.\n",
    "import pandas as pd"
   ]
  },
  {
   "cell_type": "markdown",
   "metadata": {},
   "source": [
    "Crea un DataFrame con Pandas usando el diccionario datos con las columnas \"edad\" y \"peso\"."
   ]
  },
  {
   "cell_type": "code",
   "execution_count": null,
   "metadata": {},
   "outputs": [],
   "source": [
    "# Convierte el diccionario 'datos' en un DataFrame de Pandas llamado 'df'.\n",
    "datos = {\n",
    "    'edad' : [8, 9, 10, 11, 12],\n",
    "    'peso' : [30, 32, 35, 37, 40]\n",
    "}\n",
    "df = pd.DataFrame(datos)"
   ]
  },
  {
   "cell_type": "markdown",
   "metadata": {},
   "source": [
    "Calcula y muestra la media y desviación típica de las columnas \"edad\" y \"peso\" del DataFrame df."
   ]
  },
  {
   "cell_type": "code",
   "execution_count": null,
   "metadata": {},
   "outputs": [
    {
     "name": "stdout",
     "output_type": "stream",
     "text": [
      "Media de Edad: 10.0\n",
      "Desviación Típica de Edad: 1.5811388300841898\n",
      "Media de Peso: 34.8\n",
      "Desviación Típica de Peso: 3.9623225512317903\n"
     ]
    }
   ],
   "source": [
    "# Calcula la media (promedio) de la columna 'edad' del DataFrame 'df'\n",
    "media_edad = df['edad'].mean()\n",
    "# Calcula la desviación estándar (típica) de la columna 'edad' del DataFrame 'df'\n",
    "desviacion_tipica_edad = df['edad'].std()\n",
    "\n",
    "# Calcula la media (promedio) de la columna 'peso' del DataFrame 'df'\n",
    "media_peso = df['peso'].mean()\n",
    "# Calcula la desviación estándar (típica) de la columna 'peso' del DataFrame 'df'\n",
    "desviacion_tipica_peso = df['peso'].std()\n",
    "\n",
    "# Imprime el valor de la media de las edades\n",
    "print(\"Media de Edad:\", media_edad)\n",
    "# Imprime el valor de la desviación estándar de las edades\n",
    "print(\"Desviación Típica de Edad:\", desviacion_tipica_edad)\n",
    "# Imprime el valor de la media de los pesos\n",
    "print(\"Media de Peso:\", media_peso)\n",
    "# Imprime el valor de la desviación estándar de los pesos\n",
    "print(\"Desviación Típica de Peso:\", desviacion_tipica_peso)\n",
    "\n",
    "\n"
   ]
  }
 ],
 "metadata": {
  "kernelspec": {
   "display_name": "Python 3",
   "language": "python",
   "name": "python3"
  },
  "language_info": {
   "codemirror_mode": {
    "name": "ipython",
    "version": 3
   },
   "file_extension": ".py",
   "mimetype": "text/x-python",
   "name": "python",
   "nbconvert_exporter": "python",
   "pygments_lexer": "ipython3",
   "version": "3.11.9"
  }
 },
 "nbformat": 4,
 "nbformat_minor": 2
}
